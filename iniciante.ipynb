{
  "nbformat": 4,
  "nbformat_minor": 0,
  "metadata": {
    "colab": {
      "provenance": []
    },
    "kernelspec": {
      "name": "python3",
      "display_name": "Python 3"
    },
    "language_info": {
      "name": "python"
    }
  },
  "cells": [
    {
      "cell_type": "code",
      "execution_count": 2,
      "metadata": {
        "colab": {
          "base_uri": "https://localhost:8080/"
        },
        "id": "6FyU3dG1CrS9",
        "outputId": "aff68893-22ed-4c92-c361-c9a429e1d65f"
      },
      "outputs": [
        {
          "output_type": "stream",
          "name": "stdout",
          "text": [
            "Ola mundo!\n"
          ]
        }
      ],
      "source": [
        "print (\"Ola mundo!\") \n"
      ]
    },
    {
      "cell_type": "code",
      "source": [
        "3+7\n"
      ],
      "metadata": {
        "colab": {
          "base_uri": "https://localhost:8080/"
        },
        "id": "8mhFxTPkC08Y",
        "outputId": "bfe2119b-4cbf-4ee0-baed-c825654ad3f5"
      },
      "execution_count": 31,
      "outputs": [
        {
          "output_type": "execute_result",
          "data": {
            "text/plain": [
              "10"
            ]
          },
          "metadata": {},
          "execution_count": 31
        }
      ]
    },
    {
      "cell_type": "code",
      "source": [
        "  #variaveis\n",
        "  \"\"\"\"número inteiro, inteiro int não atribuído Não tem limite definido\n",
        "  número de ponto flutuante real float não atribuído um único caractere \n",
        "  caractere str não atribuído Valores literais devem ter aspas duplas ou\n",
        "  aspas simples. Exemplo: \"F\" ou 'F'\n",
        "  texto caractere str não atribuído Valores literais devem ter aspas\n",
        "  duplas ou aspas simples. Exemplo: \"Maria\" ou 'Maria'\n",
        "  valor lógico logico boolean não atribuído Valores\n",
        "possíveis: True, False\"\"\"\"\n",
        "#tipo\n",
        " "
      ],
      "metadata": {
        "colab": {
          "base_uri": "https://localhost:8080/",
          "height": 153
        },
        "id": "-sI-clB6Tv_0",
        "outputId": "09844cff-7108-467a-8b6e-65f02e1c9f47"
      },
      "execution_count": 33,
      "outputs": [
        {
          "output_type": "error",
          "ename": "SyntaxError",
          "evalue": "ignored",
          "traceback": [
            "\u001b[0;36m  File \u001b[0;32m\"<ipython-input-33-0106a66e9eb9>\"\u001b[0;36m, line \u001b[0;32m9\u001b[0m\n\u001b[0;31m    possíveis: True, False\"\"\"\"\u001b[0m\n\u001b[0m                              \n^\u001b[0m\n\u001b[0;31mSyntaxError\u001b[0m\u001b[0;31m:\u001b[0m EOL while scanning string literal\n"
          ]
        }
      ]
    },
    {
      "cell_type": "code",
      "source": [
        "x = 5\n",
        "y = 2\n",
        "a = 5 + 2 # adicao\n",
        "r = 5 - 2 # subtracao\n",
        "z =  5 % 2 #mod ou rest da divisao\n",
        "u = 5 / 2 # divisao \n",
        "j = 5 // 2 # divisao inteira\n",
        "l =  5 * 2 # multiplicaçao\n",
        "o = 5 ** 2 # cinco elevado quadrado\n",
        "\n",
        "print(z , \n",
        "      l, o, u, j, r, a, )"
      ],
      "metadata": {
        "colab": {
          "base_uri": "https://localhost:8080/"
        },
        "id": "O0PNg9MhOJVw",
        "outputId": "71e29291-e544-46d3-d153-3ae55a74e2bb"
      },
      "execution_count": 26,
      "outputs": [
        {
          "output_type": "stream",
          "name": "stdout",
          "text": [
            "1 10 25 2.5 2 3 7\n"
          ]
        }
      ]
    },
    {
      "cell_type": "code",
      "source": [
        "# comentario\n",
        "\"\"\" testando o comento\n",
        " bla bla \n",
        " bla bla\n",
        "\"\"\"\n",
        "#voltar normal depois de 3 aspas. \n"
      ],
      "metadata": {
        "colab": {
          "base_uri": "https://localhost:8080/",
          "height": 36
        },
        "id": "8EMqFpPbGRIR",
        "outputId": "fc3966bf-3eca-4f9b-bef4-13ec635697d5"
      },
      "execution_count": 11,
      "outputs": [
        {
          "output_type": "execute_result",
          "data": {
            "text/plain": [
              "' testando o comento\\n bla bla \\n bla bla\\n'"
            ],
            "application/vnd.google.colaboratory.intrinsic+json": {
              "type": "string"
            }
          },
          "metadata": {},
          "execution_count": 11
        }
      ]
    },
    {
      "cell_type": "code",
      "source": [
        "#tipo numericos\n",
        "Integer\n",
        "test = 0b100\n",
        "print(\"100 Binary: \", test)\n",
        "test = 0o100\n",
        "print(\"100 Octal: \", test)\n",
        "test = 100\n",
        "print(\"100 Decimal: \", test)\n",
        "test = 0x100\n",
        "print(\"100 Hexadecimal: \", test)\n",
        "\n",
        "print(bin(test))\n",
        "print(oct(test))\n",
        "print(hex(test))"
      ],
      "metadata": {
        "colab": {
          "base_uri": "https://localhost:8080/"
        },
        "id": "mdodgTJ4HwQA",
        "outputId": "c1cc49ef-1709-4737-f6fa-c3ede9b67d16"
      },
      "execution_count": 17,
      "outputs": [
        {
          "output_type": "stream",
          "name": "stdout",
          "text": [
            "100 Binary:  4\n",
            "100 Octal:  64\n",
            "100 Decimal:  100\n",
            "100 Hexadecimal:  256\n",
            "0b100000000\n",
            "0o400\n",
            "0x100\n"
          ]
        }
      ]
    },
    {
      "cell_type": "code",
      "source": [
        "myvar = 3 + 8\n",
        "print(myvar)\n",
        "print(\"Esta é minha variavel:\", myvar)"
      ],
      "metadata": {
        "colab": {
          "base_uri": "https://localhost:8080/"
        },
        "id": "pJRJF3baC2Ru",
        "outputId": "e15e4aaa-3cb7-464f-d7a7-c978eadc4e5f"
      },
      "execution_count": 9,
      "outputs": [
        {
          "output_type": "stream",
          "name": "stdout",
          "text": [
            "11\n",
            "Esta é minha variavel: 11\n"
          ]
        }
      ]
    },
    {
      "cell_type": "code",
      "source": [
        "##tipo de dados \n",
        "idade: int \n",
        "salario: float\n",
        "altura: float\n",
        "genero: str\n",
        "nome: str    \n",
        "\n",
        "idade=38\n",
        "salario=5800.5\n",
        "altura=1.80\n",
        "genero = \"M\"\n",
        "nome = \"Humberto\"\n",
        "\n",
        "print (f\"idade = {idade}\" )\n",
        "print (f\"salario = {salario:.2f}\" )\n",
        "print (f\"altura = {altura:.2f}\" )\n",
        "print (f\"genero = {genero}\" )\n",
        "print (f\"nome = {nome}\" )"
      ],
      "metadata": {
        "colab": {
          "base_uri": "https://localhost:8080/"
        },
        "id": "3QmfTfdLC6UP",
        "outputId": "3d4f6574-76b1-4ef0-fd04-558b275834b0"
      },
      "execution_count": 28,
      "outputs": [
        {
          "output_type": "stream",
          "name": "stdout",
          "text": [
            "idade = 38\n",
            "salario = 5800.50\n",
            "altura = 1.80\n",
            "genero = M\n",
            "nome = Humberto\n"
          ]
        }
      ]
    },
    {
      "cell_type": "code",
      "source": [
        "#< menor\n",
        "#> maior\n",
        "#<= menor ou igual\n",
        "#>= maior ou igual\n",
        "#== igual\n",
        "#!= ou <> diferente \n",
        "#and e\n",
        "#or ou\n",
        "#not não "
      ],
      "metadata": {
        "id": "8QascPTsRujm"
      },
      "execution_count": null,
      "outputs": []
    }
  ]
}